{
 "cells": [
  {
   "cell_type": "code",
   "execution_count": 1,
   "metadata": {},
   "outputs": [
    {
     "name": "stdout",
     "output_type": "stream",
     "text": [
      "Hi\n"
     ]
    }
   ],
   "source": [
    "print(\"Hi\")"
   ]
  },
  {
   "cell_type": "code",
   "execution_count": 1,
   "metadata": {},
   "outputs": [],
   "source": [
    "import os\n",
    "from pinecone import Pinecone\n",
    "\n",
    "# initialize connection to pinecone (get API key at app.pinecone.io)\n",
    "#api_key = os.environ.get('PINECONE_API_KEY') or 'PINECONE_API_KEY'\n",
    "\n",
    "api_key = 'c4f6971b-50d6-4c70-ac25-6b02638c31f1'\n",
    "\n",
    "# configure client\n",
    "pc = Pinecone(api_key=api_key)"
   ]
  },
  {
   "cell_type": "code",
   "execution_count": 2,
   "metadata": {},
   "outputs": [],
   "source": [
    "from pinecone import ServerlessSpec\n",
    "\n",
    "cloud = os.environ.get('PINECONE_CLOUD') or 'aws'\n",
    "region = os.environ.get('PINECONE_REGION') or 'us-east-1'\n",
    "\n",
    "spec = ServerlessSpec(cloud=cloud, region=region)"
   ]
  },
  {
   "cell_type": "code",
   "execution_count": 3,
   "metadata": {},
   "outputs": [],
   "source": [
    "index_name = 'semantic'"
   ]
  },
  {
   "cell_type": "code",
   "execution_count": 4,
   "metadata": {},
   "outputs": [
    {
     "data": {
      "text/plain": [
       "{'dimension': 768,\n",
       " 'index_fullness': 0.0,\n",
       " 'namespaces': {'': {'vector_count': 15}, 'ns1': {'vector_count': 1}},\n",
       " 'total_vector_count': 16}"
      ]
     },
     "execution_count": 4,
     "metadata": {},
     "output_type": "execute_result"
    }
   ],
   "source": [
    "import time\n",
    "\n",
    "existing_indexes = [\n",
    "    index_info[\"name\"] for index_info in pc.list_indexes()\n",
    "]\n",
    "\n",
    "# check if index already exists (it shouldn't if this is first time)\n",
    "if index_name not in existing_indexes:\n",
    "    # if does not exist, create index\n",
    "    pc.create_index(\n",
    "        index_name,\n",
    "        dimension=384,  # dimensionality of minilm\n",
    "        metric='cosine',\n",
    "        spec=spec\n",
    "    )\n",
    "    # wait for index to be initialized\n",
    "    while not pc.describe_index(index_name).status['ready']:\n",
    "        time.sleep(1)\n",
    "\n",
    "# connect to index\n",
    "index = pc.Index(index_name)\n",
    "time.sleep(1)\n",
    "# view index stats\n",
    "index.describe_index_stats()"
   ]
  },
  {
   "cell_type": "code",
   "execution_count": 5,
   "metadata": {},
   "outputs": [],
   "source": [
    "from sentence_transformers import SentenceTransformer\n",
    "# model = SentenceTransformer('sentence-transformers/all-MiniLM-L6-v2')\n",
    "\n",
    "# model"
   ]
  },
  {
   "cell_type": "code",
   "execution_count": 6,
   "metadata": {},
   "outputs": [],
   "source": [
    "model1 = SentenceTransformer('all-mpnet-base-v2')"
   ]
  },
  {
   "cell_type": "code",
   "execution_count": 41,
   "metadata": {},
   "outputs": [],
   "source": [
    "from tqdm.auto import tqdm\n",
    "import json\n",
    "\n",
    "with open(\"conversations.json\", \"r\") as f:\n",
    "    data = json.load(f)\n",
    "\n",
    "#print(data)\n",
    "\n",
    "for key, value in data.items():\n",
    "    # Upsert the embeddings into Pinecone index\n",
    "    index.upsert(vectors=[{'id':str({key:value}), 'values': model1.encode(key).tolist()}])\n",
    "    \n",
    "\n"
   ]
  },
  {
   "cell_type": "code",
   "execution_count": 29,
   "metadata": {},
   "outputs": [
    {
     "name": "stdout",
     "output_type": "stream",
     "text": [
      "{'PM of India': 'The current Prime Minister of India is Narendra Modi. He has been in office since May 2014, after his party, the Bharatiya Janata Party (BJP), won the general elections. Narendra Modi was re-elected for a second term in May 2019.', 'CM of AP': 'The current Chief Minister of Andhra Pradesh is Y. S. Jaganmohan Reddy. He assumed office on 30 May 2019 after his party, YSR Congress Party, won the state assembly elections.'}\n"
     ]
    }
   ],
   "source": [
    "import json\n",
    "with open(\"conversations.json\", \"r\") as f:\n",
    "    data = json.load(f)\n",
    "\n",
    "print(data)"
   ]
  },
  {
   "cell_type": "code",
   "execution_count": 37,
   "metadata": {},
   "outputs": [
    {
     "ename": "SyntaxError",
     "evalue": "':' expected after dictionary key (4208656704.py, line 3)",
     "output_type": "error",
     "traceback": [
      "\u001b[1;36m  Cell \u001b[1;32mIn[37], line 3\u001b[1;36m\u001b[0m\n\u001b[1;33m    index.upsert(vectors=[{'id': key, 'values': model1.encode(value).tolist() , 'metadata'={'key': 'value'}}])\u001b[0m\n\u001b[1;37m                                                                                         ^\u001b[0m\n\u001b[1;31mSyntaxError\u001b[0m\u001b[1;31m:\u001b[0m ':' expected after dictionary key\n"
     ]
    }
   ],
   "source": [
    "for key, value in data.items():\n",
    "    # Upsert the embeddings into Pinecone index\n",
    "    index.upsert(vectors=[{'id': key, 'values': model1.encode(value).tolist()}])"
   ]
  },
  {
   "cell_type": "code",
   "execution_count": 7,
   "metadata": {},
   "outputs": [],
   "source": [
    "# exmaple=[\"What is the capital of France?\",\n",
    "# \"Who invented the lightbulb?\",\n",
    "# \"How do plants convert sunlight into energy?\",\n",
    "# \"What causes earthquakes?\",\n",
    "# \"What are the symptoms of COVID-19?\",\n",
    "# \"How does the internet work?\",\n",
    "# \"What is the meaning of life?\",\n",
    "# \"Why do we dream?\",\n",
    "# \"What is the difference between weather and climate?\",\n",
    "# \"How do vaccines work?\"]\n",
    "# len(exmaple)\n",
    "exmaple=[\"How many shipments are delivered to germany in sep 2022\"]"
   ]
  },
  {
   "cell_type": "code",
   "execution_count": 8,
   "metadata": {},
   "outputs": [],
   "source": [
    "for i,j in enumerate(exmaple):\n",
    "    # Upsert the embeddings into Pinecone index\n",
    "    index.upsert(vectors=[{'id': str(j), 'values': model1.encode(exmaple[i]).tolist()}])\n",
    "# # Encode the text\n",
    "# embeddings = model.encode(\"How are you?\")\n",
    "\n",
    "# # Upsert the embeddings into Pinecone index\n",
    "# index.upsert(vectors=[{'id': 'how_are_you', 'values': embeddings.tolist()}])"
   ]
  },
  {
   "cell_type": "code",
   "execution_count": 21,
   "metadata": {},
   "outputs": [
    {
     "name": "stdout",
     "output_type": "stream",
     "text": [
      "{'matches': [{'id': 'How many shipments are delivered to germany in sep 2022',\n",
      "              'score': 0.799638808,\n",
      "              'values': []}],\n",
      " 'namespace': '',\n",
      " 'usage': {'read_units': 6}}\n",
      "0.8: How many shipments are delivered to germany in sep 2022\n",
      "Answer is:  <class 'str'>\n"
     ]
    }
   ],
   "source": [
    "query = \"How many shipments are stolen from germany in sep 2022\"\n",
    "xq=model1.encode([query]).tolist()\n",
    "#result = index.query(vectors=xq, top_k=2)\n",
    "\n",
    "\n",
    "results = index.query(\n",
    "    vector=xq,\n",
    "    top_k=1,\n",
    "    include_metadata=True\n",
    "    #include_values=True\n",
    ")\n",
    "print(results)\n",
    "\n",
    "for result in results['matches']:\n",
    "    print(f\"{round(result['score'], 2)}: {result['id']}\")\n",
    "    print(\"Answer is: \",type(result['id']))\n",
    "    "
   ]
  },
  {
   "cell_type": "code",
   "execution_count": 70,
   "metadata": {},
   "outputs": [
    {
     "name": "stdout",
     "output_type": "stream",
     "text": [
      "0.89: {'PM of India': 'The current Prime Minister of India is Narendra Modi. He has been in office since May 2014, after his party, the Bharatiya Janata Party (BJP), won the general elections. Narendra Modi was re-elected for a second term in May 2019.'}\n",
      "Answer is:  ['The current Prime Minister of India is Narendra Modi. He has been in office since May 2014, after his party, the Bharatiya Janata Party (BJP), won the general elections. Narendra Modi was re-elected for a second term in May 2019.']\n"
     ]
    }
   ],
   "source": [
    "import ast\n",
    "for result in results['matches']:\n",
    "    print(f\"{round(result['score'], 2)}: {result['id']}\")\n",
    "    # Convert string to dictionary\n",
    "    converted_dict = ast.literal_eval(result['id'])\n",
    "    print(\"Answer is: \",list(converted_dict.values()))"
   ]
  },
  {
   "cell_type": "code",
   "execution_count": 75,
   "metadata": {},
   "outputs": [],
   "source": [
    "questions_and_answers = {\n",
    "    \"What is the capital of France?\": \"The capital of France is Paris.\",\n",
    "    \"Who wrote 'Romeo and Juliet'?\": \"William Shakespeare wrote 'Romeo and Juliet'.\",\n",
    "    \"What is the boiling point of water in Celsius?\": \"The boiling point of water in Celsius is 100 degrees.\",\n",
    "    \"What is the largest planet in our solar system?\": \"The largest planet in our solar system is Jupiter.\",\n",
    "    \"Who painted the Mona Lisa?\": \"Leonardo da Vinci painted the Mona Lisa.\",\n",
    "    #\"What is the formula for the area of a circle?\": \"The formula for the area of a circle is πr^2, where r is the radius of the circle.\",\n",
    "    \"What year did the Titanic sink?\": \"The Titanic sank in 1912.\",\n",
    "    \"Who is the current President of the United States?\": \"As of my last update in January 2022, the President of the United States is Joe Biden.\"\n",
    "}"
   ]
  },
  {
   "cell_type": "code",
   "execution_count": 76,
   "metadata": {},
   "outputs": [],
   "source": [
    "for key, value in questions_and_answers.items():\n",
    "    # Upsert the embeddings into Pinecone index\n",
    "    index.upsert(vectors=[{'id':str({key:value}), 'values': model1.encode(key).tolist()}])"
   ]
  },
  {
   "cell_type": "code",
   "execution_count": 8,
   "metadata": {},
   "outputs": [],
   "source": [
    "import ast"
   ]
  },
  {
   "cell_type": "code",
   "execution_count": 13,
   "metadata": {},
   "outputs": [
    {
     "name": "stdout",
     "output_type": "stream",
     "text": [
      "0.87: {'What year did the Titanic sink?': 'The Titanic sank in 1912.'}\n",
      "Question is:  ['What year did the Titanic sink?']\n",
      "Answer is:  ['The Titanic sank in 1912.']\n"
     ]
    }
   ],
   "source": [
    "query = \"Titanic disapperaed in which year?\"\n",
    "xq=model1.encode([query]).tolist()\n",
    "#result = index.query(vectors=xq, top_k=2)\n",
    "\n",
    "\n",
    "results = index.query(\n",
    "    vector=xq,\n",
    "    top_k=1,\n",
    "    include_metadata=True\n",
    "    #include_values=True\n",
    ")\n",
    "#print(results)\n",
    "\n",
    "for result in results['matches']:\n",
    "    print(f\"{round(result['score'], 2)}: {result['id']}\")\n",
    "    #print(\"Answer is: \",type(result['id']))\n",
    "    converted_dict = ast.literal_eval(result['id'])\n",
    "    print(\"Question is: \",list(converted_dict.keys()))\n",
    "    print(\"Answer is: \",list(converted_dict.values()))"
   ]
  },
  {
   "cell_type": "code",
   "execution_count": 14,
   "metadata": {},
   "outputs": [],
   "source": [
    "ques_ans={\n",
    "    \"What are the environmental implications of deforestation in the Amazon rainforest?\":\n",
    "    \"Deforestation in the Amazon rainforest leads to the loss of biodiversity, disruption of ecosystems, release of carbon dioxide into the atmosphere, and exacerbation of climate change.\",\n",
    "    \n",
    "    \"How does the human brain process and store long-term memories?\":\n",
    "    \"Long-term memories are formed through a process involving the consolidation of information in various regions of the brain, such as the hippocampus and cortex, where synaptic connections are strengthened, allowing for the storage of memories over extended periods.\",\n",
    "    \n",
    "    \"Explain the role of neurotransmitters in mood regulation and mental health.\":\n",
    "    \"Neurotransmitters such as serotonin, dopamine, and norepinephrine play crucial roles in regulating mood, emotions, and cognitive functions. Imbalances in these neurotransmitters are associated with various mental health disorders like depression, anxiety, and schizophrenia.\",\n",
    "    \n",
    "    \"What are the potential economic impacts of a global pandemic like COVID-19?\":\n",
    "    \"Global pandemics like COVID-19 can lead to economic recessions, job losses, disruptions in supply chains, decreased consumer spending, and increased government spending on healthcare and relief efforts, causing significant economic downturns worldwide.\",\n",
    "    \n",
    "    \"Describe the process of gene expression and its significance in cellular functions.\":\n",
    "    \"Gene expression involves the transcription of DNA into mRNA and translation of mRNA into proteins, which are essential for carrying out various cellular functions such as metabolism, growth, and repair. Regulation of gene expression is crucial for maintaining cellular homeostasis and responding to environmental cues.\",\n",
    "    \n",
    "    \"How do renewable energy sources like solar and wind power contribute to mitigating climate change?\":\n",
    "    \"Renewable energy sources like solar and wind power generate electricity without producing greenhouse gas emissions, thereby reducing reliance on fossil fuels and mitigating climate change by decreasing carbon dioxide emissions and other pollutants.\",\n",
    "    \n",
    "    \"Discuss the impact of globalization on cultural diversity and identity.\":\n",
    "    \"Globalization has both positive and negative effects on cultural diversity and identity. While it promotes cultural exchange and integration, it can also lead to the homogenization of cultures, loss of traditional practices, and erosion of indigenous languages and customs.\",\n",
    "    \n",
    "    \"What are the ethical considerations surrounding the use of artificial intelligence in decision-making processes?\":\n",
    "    \"Ethical considerations surrounding the use of artificial intelligence include issues related to bias, transparency, accountability, privacy, and the potential for AI systems to reinforce existing inequalities or infringe upon human rights.\",\n",
    "    \n",
    "    \"Explain the relationship between socioeconomic status and health outcomes.\":\n",
    "    \"Socioeconomic status, including factors such as income, education, and access to healthcare, significantly influences health outcomes. Individuals with higher socioeconomic status generally have better access to resources and healthcare services, leading to improved health outcomes compared to those with lower socioeconomic status.\",\n",
    "    \n",
    "    \"What are the mechanisms underlying antibiotic resistance in bacteria, and how can it be addressed?\":\n",
    "    \"Antibiotic resistance in bacteria occurs through mechanisms such as genetic mutations, horizontal gene transfer, and the overuse or misuse of antibiotics. Addressing antibiotic resistance requires strategies such as prudent antibiotic use, development of new antibiotics, and investment in alternative treatments like phage therapy.\"\n",
    "}\n"
   ]
  },
  {
   "cell_type": "code",
   "execution_count": 15,
   "metadata": {},
   "outputs": [],
   "source": [
    "for key, value in ques_ans.items():\n",
    "    # Upsert the embeddings into Pinecone index\n",
    "    index.upsert(vectors=[{'id':str({key:value}), 'values': model1.encode(key).tolist()}])"
   ]
  },
  {
   "cell_type": "code",
   "execution_count": 23,
   "metadata": {},
   "outputs": [
    {
     "name": "stdout",
     "output_type": "stream",
     "text": [
      "0.66: {'What are the potential economic impacts of a global pandemic like COVID-19?': 'Global pandemics like COVID-19 can lead to economic recessions, job losses, disruptions in supply chains, decreased consumer spending, and increased government spending on healthcare and relief efforts, causing significant economic downturns worldwide.'}\n",
      "Question is:  ['What are the potential economic impacts of a global pandemic like COVID-19?']\n",
      "Answer is:  ['Global pandemics like COVID-19 can lead to economic recessions, job losses, disruptions in supply chains, decreased consumer spending, and increased government spending on healthcare and relief efforts, causing significant economic downturns worldwide.']\n"
     ]
    }
   ],
   "source": [
    "query = \"effects of COVID-19\"\n",
    "xq=model1.encode([query]).tolist()\n",
    "#result = index.query(vectors=xq, top_k=2)\n",
    "\n",
    "\n",
    "results = index.query(\n",
    "    vector=xq,\n",
    "    top_k=1,\n",
    "    include_metadata=True\n",
    "    #include_values=True\n",
    ")\n",
    "#print(results)\n",
    "\n",
    "for result in results['matches']:\n",
    "    print(f\"{round(result['score'], 2)}: {result['id']}\")\n",
    "    #print(\"Answer is: \",type(result['id']))\n",
    "    converted_dict = ast.literal_eval(result['id'])\n",
    "    print(\"Question is: \",list(converted_dict.keys()))\n",
    "    print(\"Answer is: \",list(converted_dict.values()))"
   ]
  },
  {
   "cell_type": "code",
   "execution_count": 16,
   "metadata": {},
   "outputs": [
    {
     "data": {
      "text/plain": [
       "1892"
      ]
     },
     "execution_count": 16,
     "metadata": {},
     "output_type": "execute_result"
    }
   ],
   "source": [
    "ind=\"Earth, the third celestial body from the Sun in our solar system, stands as a testament to the wonders of the universe. Spanning approximately 12,742 kilometers in diameter and boasting a mass of about 5.97 × 10^24 kilograms, Earth is a dynamic and diverse world teeming with life. Its layered structure, comprising a solid inner core, liquid outer core, semi-solid mantle, and thin crust, facilitates a plethora of geological processes that have shaped its surface over billions of years. Enveloping the planet is its atmosphere, primarily composed of nitrogen (78%) and oxygen (21%), which sustains life and moderates temperatures, creating the perfect conditions for a wide array of ecosystems to flourish. Earth's vast oceans, covering more than 70% of its surface, play a pivotal role in regulating climate, supporting biodiversity, and shaping weather patterns, serving as vital sources of sustenance and livelihood for countless species, including humans. The planet's magnetic field, generated by its churning outer core, shields it from harmful solar radiation and cosmic particles, safeguarding life as we know it. Rotating on its axis, Earth experiences the rhythm of day and night, while its orbit around the Sun dictates the changing seasons, marking the passage of time. Human civilization has thrived on Earth, harnessing its abundant resources for food, shelter, energy, and innovation, shaping landscapes and societies across continents and millennia. However, human activities have also left indelible marks on the planet, causing widespread environmental degradation, pollution, and climate change, threatening the delicate balance of life. Despite these challenges, Earth remains a beacon of resilience, beauty, and interconnectedness, reminding us of the importance of conservation, sustainability, and stewardship for the future of all life on this precious blue planet.\"\n",
    "len(ind)"
   ]
  },
  {
   "cell_type": "code",
   "execution_count": 3,
   "metadata": {},
   "outputs": [],
   "source": [
    "pharma_examples={\"How do SSRIs work in the treatment of depression?\": \"Selective serotonin reuptake inhibitors (SSRIs) work by blocking the reabsorption (reuptake) of serotonin in the brain, which helps to increase the levels of serotonin available to nerve cells. This is thought to improve mood and alleviate symptoms of depression.\",\n",
    "\n",
    "\"What are the different classes of antibiotics?\": \"Antibiotics can be classified into several categories based on their mechanism of action, chemical structure, and spectrum of activity. Some common classes include penicillins, cephalosporins, macrolides, tetracyclines, fluoroquinolones, aminoglycosides, sulfonamides, and carbapenems.\",\n",
    "\n",
    "\"What is the mechanism of action of statins?\": \"Statins work by inhibiting the enzyme HMG-CoA reductase, which is involved in the synthesis of cholesterol in the liver. By blocking this enzyme, statins reduce the production of cholesterol, leading to lower levels of LDL cholesterol in the blood.\",\n",
    "\n",
    "\"What are the potential side effects of NSAIDs?\": \"Nonsteroidal anti-inflammatory drugs (NSAIDs) can cause a range of side effects, including gastrointestinal issues such as stomach ulcers and bleeding, kidney problems, cardiovascular risks like heart attack and stroke, and allergic reactions in some individuals.\",\n",
    "\n",
    "\"What are the different types of insulin and their onset of action?\": \"Insulin types include rapid-acting (onset within 10-30 minutes), short-acting (onset within 30 minutes to an hour), intermediate-acting (onset within 1-2 hours), and long-acting (onset within several hours, lasting up to 24 hours). Each type has a different duration of action and is used to manage blood sugar levels in people with diabetes.\",\n",
    "\n",
    "\"How do proton pump inhibitors (PPIs) work in the treatment of gastric ulcers?\": \"Proton pump inhibitors (PPIs) work by irreversibly blocking the proton pump in the stomach's parietal cells, which reduces the production of gastric acid. This helps to heal gastric ulcers by reducing the acidity in the stomach and allowing the ulcer to heal.\",\n",
    "\n",
    "\"What is the mechanism of action of ACE inhibitors in treating hypertension?\": \"Angiotensin-converting enzyme (ACE) inhibitors work by inhibiting the conversion of angiotensin I to angiotensin II, a potent vasoconstrictor. By blocking this conversion, ACE inhibitors reduce blood pressure by relaxing blood vessels and decreasing the workload of the heart.\",\n",
    "\n",
    "\"How do beta-blockers work in the management of cardiac arrhythmias?\": \"Beta-blockers work by blocking the action of adrenaline and noradrenaline on beta-adrenergic receptors in the heart. This slows down the heart rate, reduces the force of contraction, and decreases the electrical conductivity in the heart, helping to control cardiac arrhythmias.\",\n",
    "\n",
    "\"What are the different types of anticoagulants and their mechanisms of action?\": \"Anticoagulants can be classified into direct thrombin inhibitors, such as dabigatran, and factor Xa inhibitors, such as rivaroxaban and apixaban. These medications interfere with the blood clotting process by targeting specific factors involved in coagulation, thereby preventing the formation of blood clots.\",\n",
    "\n",
    "\"How do diuretics work in the treatment of hypertension?\": \"Diuretics work by increasing the excretion of sodium and water from the body through the kidneys. This helps to reduce the volume of blood in the bloodstream, leading to a decrease in blood pressure. Diuretics are commonly used as first-line agents in the management of hypertension.\",\n",
    "\n",
    "\"What is the mechanism of action of benzodiazepines in treating anxiety disorders?\": \"Benzodiazepines work by enhancing the activity of gamma-aminobutyric acid (GABA), a neurotransmitter that inhibits the activity of neurons in the brain. By increasing GABAergic activity, benzodiazepines produce calming and sedative effects, which can help alleviate symptoms of anxiety disorders.\",\n",
    "\n",
    "\"How do antihistamines work in the treatment of allergic reactions?\": \"Antihistamines work by blocking the action of histamine, a chemical released by the immune system in response to allergens. By inhibiting histamine receptors, antihistamines help to reduce symptoms of allergic reactions such as itching, sneezing, and nasal congestion.\",\n",
    "\n",
    "\"What are the mechanisms of action of opioid analgesics?\": \"Opioid analgesics work by binding to opioid receptors in the brain, spinal cord, and other parts of the body. This binding activates the body's natural pain-relief system, leading to a reduction in the perception of pain. Opioids can also produce other effects such as sedation, respiratory depression, and euphoria.\",\n",
    "\n",
    "\"How do antipsychotic medications work in the treatment of schizophrenia?\": \"Antipsychotic medications work by blocking dopamine receptors in the brain, particularly in the mesolimbic pathway. By reducing dopamine activity in this pathway, antipsychotics help to alleviate symptoms of psychosis, such as hallucinations and delusions, in people with schizophrenia.\",\n",
    "\n",
    "\"What are the different classes of antidepressant medications?\": \"Antidepressant medications can be classified into several categories, including selective serotonin reuptake inhibitors (SSRIs), serotonin-norepinephrine reuptake inhibitors (SNRIs), tricyclic antidepressants (TCAs), and monoamine oxidase inhibitors (MAOIs). Each class has a different mechanism of action and side effect profile.\",\n",
    "\n",
    "\"How do calcium channel blockers work in the treatment of hypertension?\": \"Calcium channel blockers work by blocking the influx of calcium ions into smooth muscle cells in blood vessels and the heart. This causes relaxation of the blood vessels and decreases the force of contraction of the heart, leading to a reduction in blood pressure.\",\n",
    "\n",
    "\"What is the mechanism of action of corticosteroids in the treatment of inflammatory conditions?\": \"Corticosteroids work by binding to glucocorticoid receptors in cells throughout the body, leading to the activation or repression of various genes involved in the immune response and inflammation. This helps to suppress inflammation and immune responses in conditions such as asthma, rheumatoid arthritis, and allergic reactions.\",\n",
    "\n",
    "\"How do anticonvulsant medications work in the management of epilepsy?\": \"Anticonvulsant medications work by stabilizing the electrical activity of neurons in the brain, making them less likely to become hyperexcitable and generate abnormal electrical impulses that cause seizures. Different anticonvulsants may act on various neurotransmitter systems or ion channels involved in neuronal excitability.\",\n",
    "\n",
    "\"What are the mechanisms of action of immunosuppressant drugs?\": \"Immunosuppressant drugs work by suppressing the activity of the immune system, primarily by inhibiting the proliferation and function of immune cells such as T cells and B cells. This helps to prevent the rejection of transplanted organs and the progression of autoimmune diseases by reducing inflammation and immune-mediated damage.\"}"
   ]
  },
  {
   "cell_type": "code",
   "execution_count": 18,
   "metadata": {},
   "outputs": [],
   "source": [
    "new_data={\"Describe about Earth\":\"Earth, the third celestial body from the Sun in our solar system, stands as a testament to the wonders of the universe. Spanning approximately 12,742 kilometers in diameter and boasting a mass of about 5.97 × 10^24 kilograms, Earth is a dynamic and diverse world teeming with life. Its layered structure, comprising a solid inner core, liquid outer core, semi-solid mantle, and thin crust, facilitates a plethora of geological processes that have shaped its surface over billions of years. Enveloping the planet is its atmosphere, primarily composed of nitrogen (78%) and oxygen (21%), which sustains life and moderates temperatures, creating the perfect conditions for a wide array of ecosystems to flourish. Earth's vast oceans, covering more than 70% of its surface, play a pivotal role in regulating climate, supporting biodiversity, and shaping weather patterns, serving as vital sources of sustenance and livelihood for countless species, including humans. The planet's magnetic field, generated by its churning outer core, shields it from harmful solar radiation and cosmic particles, safeguarding life as we know it. Rotating on its axis, Earth experiences the rhythm of day and night, while its orbit around the Sun dictates the changing seasons, marking the passage of time. Human civilization has thrived on Earth, harnessing its abundant resources for food, shelter, energy, and innovation, shaping landscapes and societies across continents and millennia. However, human activities have also left indelible marks on the planet, causing widespread environmental degradation, pollution, and climate change, threatening the delicate balance of life. Despite these challenges, Earth remains a beacon of resilience, beauty, and interconnectedness, reminding us of the importance of conservation, sustainability, and stewardship for the future of all life on this precious blue planet.\"}"
   ]
  },
  {
   "cell_type": "code",
   "execution_count": 20,
   "metadata": {},
   "outputs": [],
   "source": [
    "for key, value in new_data.items():\n",
    "    # Upsert the embeddings into Pinecone index\n",
    "    index.upsert(vectors=[{'id':key, 'values': model1.encode(key).tolist(), 'metadata': {'Question': key, 'Answer': value}}])"
   ]
  },
  {
   "cell_type": "code",
   "execution_count": 12,
   "metadata": {},
   "outputs": [],
   "source": [
    "import ast"
   ]
  },
  {
   "cell_type": "code",
   "execution_count": 28,
   "metadata": {},
   "outputs": [
    {
     "name": "stdout",
     "output_type": "stream",
     "text": [
      "{'matches': [{'id': 'Describe about Earth',\n",
      "              'metadata': {'Answer': 'Earth, the third celestial body from the '\n",
      "                                     'Sun in our solar system, stands as a '\n",
      "                                     'testament to the wonders of the '\n",
      "                                     'universe. Spanning approximately 12,742 '\n",
      "                                     'kilometers in diameter and boasting a '\n",
      "                                     'mass of about 5.97 × 10^24 kilograms, '\n",
      "                                     'Earth is a dynamic and diverse world '\n",
      "                                     'teeming with life. Its layered '\n",
      "                                     'structure, comprising a solid inner '\n",
      "                                     'core, liquid outer core, semi-solid '\n",
      "                                     'mantle, and thin crust, facilitates a '\n",
      "                                     'plethora of geological processes that '\n",
      "                                     'have shaped its surface over billions of '\n",
      "                                     'years. Enveloping the planet is its '\n",
      "                                     'atmosphere, primarily composed of '\n",
      "                                     'nitrogen (78%) and oxygen (21%), which '\n",
      "                                     'sustains life and moderates '\n",
      "                                     'temperatures, creating the perfect '\n",
      "                                     'conditions for a wide array of '\n",
      "                                     \"ecosystems to flourish. Earth's vast \"\n",
      "                                     'oceans, covering more than 70% of its '\n",
      "                                     'surface, play a pivotal role in '\n",
      "                                     'regulating climate, supporting '\n",
      "                                     'biodiversity, and shaping weather '\n",
      "                                     'patterns, serving as vital sources of '\n",
      "                                     'sustenance and livelihood for countless '\n",
      "                                     \"species, including humans. The planet's \"\n",
      "                                     'magnetic field, generated by its '\n",
      "                                     'churning outer core, shields it from '\n",
      "                                     'harmful solar radiation and cosmic '\n",
      "                                     'particles, safeguarding life as we know '\n",
      "                                     'it. Rotating on its axis, Earth '\n",
      "                                     'experiences the rhythm of day and night, '\n",
      "                                     'while its orbit around the Sun dictates '\n",
      "                                     'the changing seasons, marking the '\n",
      "                                     'passage of time. Human civilization has '\n",
      "                                     'thrived on Earth, harnessing its '\n",
      "                                     'abundant resources for food, shelter, '\n",
      "                                     'energy, and innovation, shaping '\n",
      "                                     'landscapes and societies across '\n",
      "                                     'continents and millennia. However, human '\n",
      "                                     'activities have also left indelible '\n",
      "                                     'marks on the planet, causing widespread '\n",
      "                                     'environmental degradation, pollution, '\n",
      "                                     'and climate change, threatening the '\n",
      "                                     'delicate balance of life. Despite these '\n",
      "                                     'challenges, Earth remains a beacon of '\n",
      "                                     'resilience, beauty, and '\n",
      "                                     'interconnectedness, reminding us of the '\n",
      "                                     'importance of conservation, '\n",
      "                                     'sustainability, and stewardship for the '\n",
      "                                     'future of all life on this precious blue '\n",
      "                                     'planet.',\n",
      "                           'Question': 'Describe about Earth'},\n",
      "              'score': 0.928475201,\n",
      "              'values': []}],\n",
      " 'namespace': '',\n",
      " 'usage': {'read_units': 6}}\n",
      "0.93: Describe about Earth\n",
      "Metadata is:  {'Answer': \"Earth, the third celestial body from the Sun in our solar system, stands as a testament to the wonders of the universe. Spanning approximately 12,742 kilometers in diameter and boasting a mass of about 5.97 × 10^24 kilograms, Earth is a dynamic and diverse world teeming with life. Its layered structure, comprising a solid inner core, liquid outer core, semi-solid mantle, and thin crust, facilitates a plethora of geological processes that have shaped its surface over billions of years. Enveloping the planet is its atmosphere, primarily composed of nitrogen (78%) and oxygen (21%), which sustains life and moderates temperatures, creating the perfect conditions for a wide array of ecosystems to flourish. Earth's vast oceans, covering more than 70% of its surface, play a pivotal role in regulating climate, supporting biodiversity, and shaping weather patterns, serving as vital sources of sustenance and livelihood for countless species, including humans. The planet's magnetic field, generated by its churning outer core, shields it from harmful solar radiation and cosmic particles, safeguarding life as we know it. Rotating on its axis, Earth experiences the rhythm of day and night, while its orbit around the Sun dictates the changing seasons, marking the passage of time. Human civilization has thrived on Earth, harnessing its abundant resources for food, shelter, energy, and innovation, shaping landscapes and societies across continents and millennia. However, human activities have also left indelible marks on the planet, causing widespread environmental degradation, pollution, and climate change, threatening the delicate balance of life. Despite these challenges, Earth remains a beacon of resilience, beauty, and interconnectedness, reminding us of the importance of conservation, sustainability, and stewardship for the future of all life on this precious blue planet.\", 'Question': 'Describe about Earth'}\n",
      "Metadata Question is:  ['Answer', 'Question']\n",
      "Metadata Answer is:  Describe about Earth\n"
     ]
    }
   ],
   "source": [
    "query = \"Tell me about Earth\"\n",
    "xq=model1.encode([query]).tolist()\n",
    "#result = index.query(vectors=xq, top_k=2)\n",
    "\n",
    "\n",
    "results = index.query(\n",
    "    vector=xq,\n",
    "    top_k=1,\n",
    "    include_metadata=True\n",
    "    #include_values=True\n",
    ")\n",
    "print(results)\n",
    "\n",
    "for result in results['matches']:\n",
    "    print(f\"{round(result['score'], 2)}: {result['id']}\")\n",
    "    print(\"Metadata is: \",result['metadata'])\n",
    "    print(\"Metadata Question is: \",list(result['metadata'].keys()))\n",
    "    print(\"Metadata Answer is: \",list(result['metadata'].values())[1])\n",
    "    # converted_dict = ast.literal_eval(result['id'])\n",
    "    # print(\"Question is: \",list(converted_dict.keys()))\n",
    "    # print(\"Answer is: \",list(converted_dict.values()))"
   ]
  },
  {
   "cell_type": "code",
   "execution_count": 4,
   "metadata": {},
   "outputs": [
    {
     "data": {
      "text/plain": [
       "'e7bc2f973afb8dfaf00fadfb19596741108be08ab4a107c6a799c429b684c64a'"
      ]
     },
     "execution_count": 4,
     "metadata": {},
     "output_type": "execute_result"
    }
   ],
   "source": [
    "import hashlib\n",
    "def hash_password(password):\n",
    "    # Hash the password using SHA-256 algorithm\n",
    "    return hashlib.sha256(password.encode()).hexdigest()\n",
    "    \n",
    "\n",
    "hash_password(\"master123\")"
   ]
  },
  {
   "cell_type": "code",
   "execution_count": 1,
   "metadata": {},
   "outputs": [
    {
     "name": "stdout",
     "output_type": "stream",
     "text": [
      "Today's date: 2024-06-05\n",
      "Today is the target date\n"
     ]
    }
   ],
   "source": [
    "from datetime import date\n",
    "\n",
    "# date object of today's date\n",
    "today = date.today()\n",
    "print(\"Today's date:\", today)\n",
    "\n",
    "# Create a date object from the string\n",
    "target_date = date(2024, 6, 4)\n",
    "\n",
    "# Check if today's date matches the target date\n",
    "if today > target_date:\n",
    "    print(\"Today is the target date\")\n",
    "else:\n",
    "    print(\"Today is not the target date\")\n"
   ]
  },
  {
   "cell_type": "code",
   "execution_count": 5,
   "metadata": {},
   "outputs": [
    {
     "name": "stdout",
     "output_type": "stream",
     "text": [
      "{'dimension': 768,\n",
      " 'index_fullness': 0.0,\n",
      " 'namespaces': {'': {'vector_count': 4}, 'ns1': {'vector_count': 1}},\n",
      " 'total_vector_count': 5}\n",
      "['', 'ns1']\n"
     ]
    }
   ],
   "source": [
    "from pinecone import Pinecone\n",
    "api_key = 'c4f6971b-50d6-4c70-ac25-6b02638c31f1'\n",
    "# configure client\n",
    "pc = Pinecone(api_key=api_key)\n",
    "\n",
    "index_name = \"semantic\"\n",
    "\n",
    "# connect to index\n",
    "index = pc.Index(index_name)\n",
    "\n",
    "print(index.describe_index_stats())\n",
    "print(list(index.describe_index_stats()[\"namespaces\"].keys()))"
   ]
  },
  {
   "cell_type": "code",
   "execution_count": 9,
   "metadata": {},
   "outputs": [
    {
     "name": "stdout",
     "output_type": "stream",
     "text": [
      "{'namespace': '',\n",
      " 'usage': {'read_units': 1},\n",
      " 'vectors': {'dog': {'id': 'dog',\n",
      "                     'metadata': {'Answer': 'SELECT DISTINCT CUST_GRP1 AS '\n",
      "                                            '`Chief Ministers` FROM orders',\n",
      "                                  'Question': 'dog'},\n",
      "                     'values': [0.0215680692,\n",
      "                                0.0431967899,\n",
      "                                -0.0219510254,\n",
      "                                -0.0118855191,\n",
      "                                0.0125830323,\n",
      "                                0.00954331178,\n",
      "                                -0.00393587723,\n",
      "                                0.0303479116,\n",
      "                                -0.0311429743,\n",
      "                                -0.0228111204,\n",
      "                                0.0209214389,\n",
      "                                0.101412728,\n",
      "                                -0.0758953616,\n",
      "                                -0.0196846407,\n",
      "                                0.0439451411,\n",
      "                                -0.0280988794,\n",
      "                                0.00784056634,\n",
      "                                0.0595423914,\n",
      "                                0.0286844894,\n",
      "                                -0.0385588147,\n",
      "                                0.00972397253,\n",
      "                                0.0311239213,\n",
      "                                -0.00387739739,\n",
      "                                0.0206515,\n",
      "                                -0.0412504673,\n",
      "                                0.0147270272,\n",
      "                                -0.0354370624,\n",
      "                                -0.0230540093,\n",
      "                                -0.0111109046,\n",
      "                                -0.0722474381,\n",
      "                                0.00101863348,\n",
      "                                -0.0288138557,\n",
      "                                0.000703556812,\n",
      "                                0.0291240253,\n",
      "                                2.0495404e-06,\n",
      "                                -0.0259623341,\n",
      "                                0.0196903665,\n",
      "                                -0.00940594543,\n",
      "                                0.0552033372,\n",
      "                                -0.0849733278,\n",
      "                                -0.0235349368,\n",
      "                                -0.0272107441,\n",
      "                                -0.0297610294,\n",
      "                                -0.00123224186,\n",
      "                                -0.0213241652,\n",
      "                                0.0271349084,\n",
      "                                0.0755753,\n",
      "                                0.103271976,\n",
      "                                -0.0441861451,\n",
      "                                0.0465639681,\n",
      "                                -0.0153999859,\n",
      "                                -0.0631060451,\n",
      "                                -0.0201705471,\n",
      "                                -0.00391008239,\n",
      "                                0.0166066363,\n",
      "                                -0.0446253791,\n",
      "                                0.0188666768,\n",
      "                                0.03900823,\n",
      "                                -0.0475608073,\n",
      "                                -0.0175560191,\n",
      "                                -0.00825437717,\n",
      "                                -0.05883836,\n",
      "                                0.0360379443,\n",
      "                                -0.0113925561,\n",
      "                                0.0129787466,\n",
      "                                0.0157573968,\n",
      "                                0.0071729077,\n",
      "                                -0.0096686352,\n",
      "                                -0.00999254,\n",
      "                                0.00843217783,\n",
      "                                -0.0469476059,\n",
      "                                -0.00996617321,\n",
      "                                0.000778763206,\n",
      "                                0.121464781,\n",
      "                                -0.0209887046,\n",
      "                                0.000394734176,\n",
      "                                -0.00402205903,\n",
      "                                0.0529348813,\n",
      "                                0.0363223627,\n",
      "                                0.0110953944,\n",
      "                                -0.0437327586,\n",
      "                                0.0169977583,\n",
      "                                0.0139952386,\n",
      "                                0.0495874956,\n",
      "                                -0.0960862115,\n",
      "                                0.0817766711,\n",
      "                                -0.00343528553,\n",
      "                                0.00210857135,\n",
      "                                0.0271897297,\n",
      "                                0.0499660335,\n",
      "                                -0.00876789913,\n",
      "                                -0.0316424556,\n",
      "                                0.0206774957,\n",
      "                                0.0447789952,\n",
      "                                -0.00980949588,\n",
      "                                0.0110516166,\n",
      "                                -0.0198805146,\n",
      "                                -0.032361269,\n",
      "                                0.00496146269,\n",
      "                                -0.0357737467,\n",
      "                                -0.0166362431,\n",
      "                                -0.0373499021,\n",
      "                                0.0267750137,\n",
      "                                0.0340573452,\n",
      "                                -0.00205736374,\n",
      "                                0.000372282666,\n",
      "                                -9.05670095e-06,\n",
      "                                0.043947462,\n",
      "                                -0.0144110201,\n",
      "                                0.0640851259,\n",
      "                                -0.0583908148,\n",
      "                                0.0152654164,\n",
      "                                -0.000723620353,\n",
      "                                0.0216831286,\n",
      "                                0.099693194,\n",
      "                                -0.0347547196,\n",
      "                                0.0133308871,\n",
      "                                0.0504918,\n",
      "                                0.00508108316,\n",
      "                                0.0164962243,\n",
      "                                -0.00415024674,\n",
      "                                -0.0100533515,\n",
      "                                -0.0116319638,\n",
      "                                0.0512804389,\n",
      "                                0.013748155,\n",
      "                                0.0148572037,\n",
      "                                -0.0830861256,\n",
      "                                0.0829095617,\n",
      "                                -0.00284837419,\n",
      "                                -0.00237875269,\n",
      "                                0.00571033591,\n",
      "                                -0.00783796,\n",
      "                                -0.0329847112,\n",
      "                                -0.0424516648,\n",
      "                                -0.00516800396,\n",
      "                                -0.0591579452,\n",
      "                                0.0252797436,\n",
      "                                -0.053670384,\n",
      "                                -0.0233204868,\n",
      "                                -0.0427227765,\n",
      "                                -0.0223731976,\n",
      "                                -0.0883218795,\n",
      "                                -0.0577098,\n",
      "                                -0.0205868371,\n",
      "                                -0.0554755516,\n",
      "                                -0.026279917,\n",
      "                                0.0439966172,\n",
      "                                0.0345528163,\n",
      "                                -0.0421655141,\n",
      "                                -0.00197689957,\n",
      "                                0.0463861078,\n",
      "                                0.0433703028,\n",
      "                                -0.0550965704,\n",
      "                                0.0124646556,\n",
      "                                0.0406100862,\n",
      "                                0.0184305832,\n",
      "                                0.00738169625,\n",
      "                                -0.0332275704,\n",
      "                                -0.00158453744,\n",
      "                                0.0136414785,\n",
      "                                0.0102045108,\n",
      "                                0.00478489604,\n",
      "                                -0.0567165352,\n",
      "                                -0.0238773748,\n",
      "                                -0.00574308541,\n",
      "                                -0.0884848386,\n",
      "                                0.0598889925,\n",
      "                                0.000313750468,\n",
      "                                -0.046238251,\n",
      "                                -0.0389732942,\n",
      "                                -0.00163035025,\n",
      "                                0.0474465154,\n",
      "                                -0.00432501826,\n",
      "                                0.068631351,\n",
      "                                0.0501626357,\n",
      "                                0.0603654385,\n",
      "                                -0.0125331208,\n",
      "                                -0.0546316206,\n",
      "                                -0.0568675883,\n",
      "                                -0.0171093456,\n",
      "                                0.0160400197,\n",
      "                                -0.0262040682,\n",
      "                                -0.00440972438,\n",
      "                                -0.0139767323,\n",
      "                                -0.0426717,\n",
      "                                -0.0222348273,\n",
      "                                -9.2728209e-05,\n",
      "                                0.0478300713,\n",
      "                                -0.0453469269,\n",
      "                                -0.012336541,\n",
      "                                0.0429329425,\n",
      "                                -0.0211485103,\n",
      "                                0.0280578528,\n",
      "                                0.0308328811,\n",
      "                                0.0760761201,\n",
      "                                0.0157483723,\n",
      "                                0.00853522215,\n",
      "                                0.00220132712,\n",
      "                                -0.0136657609,\n",
      "                                0.0159231275,\n",
      "                                -0.0476083085,\n",
      "                                0.0355898775,\n",
      "                                0.0475373082,\n",
      "                                -0.00662536034,\n",
      "                                -0.0187182259,\n",
      "                                0.00908969715,\n",
      "                                0.066087082,\n",
      "                                -0.0216559526,\n",
      "                                0.05218862,\n",
      "                                -0.0227419343,\n",
      "                                0.0310529191,\n",
      "                                -0.028427856,\n",
      "                                -0.0289727561,\n",
      "                                0.0666114166,\n",
      "                                -0.00681569381,\n",
      "                                -0.00139327033,\n",
      "                                0.0182095207,\n",
      "                                0.00521632284,\n",
      "                                0.00984892249,\n",
      "                                0.0769754499,\n",
      "                                -0.037330687,\n",
      "                                -0.0248566,\n",
      "                                0.0427293815,\n",
      "                                0.0432869121,\n",
      "                                0.0248287581,\n",
      "                                -0.076624915,\n",
      "                                -0.0386353545,\n",
      "                                0.00328735868,\n",
      "                                -0.0242743511,\n",
      "                                -0.0176712554,\n",
      "                                -0.0257342495,\n",
      "                                0.00323046232,\n",
      "                                0.0468668789,\n",
      "                                0.0188698042,\n",
      "                                0.0191184171,\n",
      "                                0.0319867432,\n",
      "                                0.0732328147,\n",
      "                                -0.0576116666,\n",
      "                                -0.00664254464,\n",
      "                                -0.0759352073,\n",
      "                                0.0276983846,\n",
      "                                0.0697161257,\n",
      "                                -0.0174739752,\n",
      "                                -0.0230610594,\n",
      "                                0.0195945483,\n",
      "                                -0.0269390289,\n",
      "                                0.0697567761,\n",
      "                                -0.0348683223,\n",
      "                                0.0251680128,\n",
      "                                -0.0429291315,\n",
      "                                -0.0236008186,\n",
      "                                -0.0421054773,\n",
      "                                0.00870289933,\n",
      "                                -0.0228818133,\n",
      "                                0.0357829221,\n",
      "                                -0.102062121,\n",
      "                                0.0505560376,\n",
      "                                -0.000602552318,\n",
      "                                -0.0539342724,\n",
      "                                -0.0757868215,\n",
      "                                0.077717118,\n",
      "                                -0.014350201,\n",
      "                                -0.0118641574,\n",
      "                                0.0474344678,\n",
      "                                0.0307043716,\n",
      "                                -0.00710534537,\n",
      "                                -0.0539477095,\n",
      "                                -0.0190479103,\n",
      "                                -0.00818728562,\n",
      "                                0.017963117,\n",
      "                                0.0505280346,\n",
      "                                -0.0134493094,\n",
      "                                -0.000490652339,\n",
      "                                0.0280787628,\n",
      "                                -0.0501981825,\n",
      "                                0.0150912562,\n",
      "                                -0.00360637158,\n",
      "                                -0.0271655899,\n",
      "                                0.0158185214,\n",
      "                                -9.5753996e-05,\n",
      "                                0.0293477047,\n",
      "                                0.0170810856,\n",
      "                                -0.0195593443,\n",
      "                                0.000116367301,\n",
      "                                0.012156711,\n",
      "                                -0.0159340966,\n",
      "                                -0.0400535055,\n",
      "                                0.0141415372,\n",
      "                                -0.00999642536,\n",
      "                                0.00803791638,\n",
      "                                -0.019794004,\n",
      "                                0.00277887424,\n",
      "                                0.00733136712,\n",
      "                                -0.0365263782,\n",
      "                                0.0411736406,\n",
      "                                0.0136786411,\n",
      "                                0.0175161511,\n",
      "                                -0.00714103086,\n",
      "                                0.05643785,\n",
      "                                0.0289680548,\n",
      "                                0.0422535427,\n",
      "                                0.0405531116,\n",
      "                                0.0189898051,\n",
      "                                -0.0433060043,\n",
      "                                0.0132839419,\n",
      "                                -0.0581353791,\n",
      "                                -0.033376731,\n",
      "                                0.0175635405,\n",
      "                                0.0210359599,\n",
      "                                -0.00812118687,\n",
      "                                -0.00393636571,\n",
      "                                -0.00860526,\n",
      "                                0.00417511677,\n",
      "                                0.0843162,\n",
      "                                -0.0105663491,\n",
      "                                -0.0650683492,\n",
      "                                -0.069570668,\n",
      "                                -0.0230936967,\n",
      "                                0.0239685029,\n",
      "                                0.0384752825,\n",
      "                                0.0335550122,\n",
      "                                -0.040541362,\n",
      "                                0.0271284897,\n",
      "                                0.0404493,\n",
      "                                0.0110345203,\n",
      "                                0.05975594,\n",
      "                                -0.0403534286,\n",
      "                                0.0183312465,\n",
      "                                0.0687199,\n",
      "                                0.0351534449,\n",
      "                                0.0213984549,\n",
      "                                -0.00277060224,\n",
      "                                0.028138699,\n",
      "                                -0.00946623553,\n",
      "                                0.00702834595,\n",
      "                                -0.020756172,\n",
      "                                -0.0395381488,\n",
      "                                -0.0447962768,\n",
      "                                -0.00695571164,\n",
      "                                0.041441083,\n",
      "                                0.00230742875,\n",
      "                                -0.00710272649,\n",
      "                                -0.0614021495,\n",
      "                                0.0250290036,\n",
      "                                -0.0518524572,\n",
      "                                -0.0346747451,\n",
      "                                -0.0932444856,\n",
      "                                0.0151398685,\n",
      "                                -0.0345744193,\n",
      "                                -0.0192344133,\n",
      "                                -0.0116524417,\n",
      "                                -0.0205436703,\n",
      "                                -0.0166557804,\n",
      "                                -0.0492036156,\n",
      "                                -0.0175066181,\n",
      "                                0.0200226475,\n",
      "                                0.0195463505,\n",
      "                                -0.0296419878,\n",
      "                                0.00927536562,\n",
      "                                0.00878154393,\n",
      "                                0.0320310406,\n",
      "                                0.0445846058,\n",
      "                                0.0481514223,\n",
      "                                -0.020082118,\n",
      "                                -0.012433649,\n",
      "                                0.0218321532,\n",
      "                                0.0260875765,\n",
      "                                -0.0246503707,\n",
      "                                -0.0266042389,\n",
      "                                0.00951755233,\n",
      "                                -0.0158259012,\n",
      "                                0.0281255618,\n",
      "                                -0.002863809,\n",
      "                                0.113596022,\n",
      "                                0.0113096721,\n",
      "                                0.0264095906,\n",
      "                                0.0879336447,\n",
      "                                -0.00788959768,\n",
      "                                -0.0454957746,\n",
      "                                -0.0329364352,\n",
      "                                0.0537817962,\n",
      "                                -0.072409533,\n",
      "                                -0.0233380459,\n",
      "                                -0.00729066413,\n",
      "                                -0.0729255527,\n",
      "                                0.000435821246,\n",
      "                                0.0313762203,\n",
      "                                -0.00339491176,\n",
      "                                -0.000573141035,\n",
      "                                -0.0285220798,\n",
      "                                0.00927857216,\n",
      "                                0.00795201492,\n",
      "                                -0.0385534056,\n",
      "                                0.0327610709,\n",
      "                                -0.00147289329,\n",
      "                                -0.0286640357,\n",
      "                                0.0178506207,\n",
      "                                0.00914413948,\n",
      "                                0.0204572603,\n",
      "                                0.0191486068,\n",
      "                                -0.00830516871,\n",
      "                                0.106018893,\n",
      "                                0.0267782342,\n",
      "                                0.0583362319,\n",
      "                                -0.0429583751,\n",
      "                                -0.0497543104,\n",
      "                                0.0982474238,\n",
      "                                0.0274572112,\n",
      "                                0.0363081582,\n",
      "                                -0.0206741188,\n",
      "                                -0.0611123852,\n",
      "                                -0.0531814136,\n",
      "                                0.00281241513,\n",
      "                                -0.0093722865,\n",
      "                                0.0175102297,\n",
      "                                -0.0394301377,\n",
      "                                0.0252460521,\n",
      "                                -0.0294393227,\n",
      "                                -0.0155649027,\n",
      "                                -0.00597384851,\n",
      "                                0.000365625019,\n",
      "                                -0.0251507014,\n",
      "                                -0.0401819274,\n",
      "                                -0.0570383109,\n",
      "                                -0.0261068083,\n",
      "                                -0.00768899266,\n",
      "                                -0.030971583,\n",
      "                                0.0163139272,\n",
      "                                0.0399564058,\n",
      "                                -0.024411913,\n",
      "                                -0.000393292314,\n",
      "                                -0.0572280586,\n",
      "                                0.029082533,\n",
      "                                -0.00175307586,\n",
      "                                0.00910097,\n",
      "                                -0.0650849566,\n",
      "                                -0.0107370568,\n",
      "                                -0.0589429,\n",
      "                                -0.0622073859,\n",
      "                                -0.0293670017,\n",
      "                                -0.0326870419,\n",
      "                                0.00309864851,\n",
      "                                -0.0144781135,\n",
      "                                -0.0126465708,\n",
      "                                -0.00317453104,\n",
      "                                -0.0100623695,\n",
      "                                0.0113062011,\n",
      "                                -0.0113709532,\n",
      "                                -0.0275894105,\n",
      "                                0.0658881068,\n",
      "                                0.034262225,\n",
      "                                -0.0271513034,\n",
      "                                -0.0258475095,\n",
      "                                0.0147929313,\n",
      "                                0.0800460055,\n",
      "                                0.00643781107,\n",
      "                                0.00576919829,\n",
      "                                0.0115080122,\n",
      "                                -0.0126077589,\n",
      "                                0.0355776884,\n",
      "                                0.0420620553,\n",
      "                                0.029505264,\n",
      "                                -0.036965929,\n",
      "                                -0.0352803,\n",
      "                                0.0481895655,\n",
      "                                -0.065950349,\n",
      "                                -0.0569755957,\n",
      "                                -0.0250150654,\n",
      "                                0.00766321924,\n",
      "                                -0.0288931653,\n",
      "                                -0.0448842645,\n",
      "                                0.0105452752,\n",
      "                                0.0196659,\n",
      "                                0.0182145908,\n",
      "                                0.0479878038,\n",
      "                                -0.0687522441,\n",
      "                                -0.0125880931,\n",
      "                                -0.0772165954,\n",
      "                                -5.58249485e-05,\n",
      "                                0.0247331113,\n",
      "                                -0.013809544,\n",
      "                                0.0161755364,\n",
      "                                -0.065534927,\n",
      "                                0.0125020426,\n",
      "                                0.020004902,\n",
      "                                0.0408493876,\n",
      "                                -0.0165258739,\n",
      "                                -0.00474277651,\n",
      "                                -0.0161325932,\n",
      "                                -0.0450090617,\n",
      "                                -0.0215408746,\n",
      "                                0.0354915783,\n",
      "                                -0.0289959852,\n",
      "                                -0.0774192289,\n",
      "                                -0.0250944961,\n",
      "                                -0.0112620937,\n",
      "                                -0.0314090028,\n",
      "                                -0.0525291935,\n",
      "                                0.0459450036,\n",
      "                                -0.0445405692,\n",
      "                                -0.0133253438,\n",
      "                                0.0173608065,\n",
      "                                0.017105842,\n",
      "                                0.0570307188,\n",
      "                                0.0167395677,\n",
      "                                -0.00020298484,\n",
      "                                -0.0208349954,\n",
      "                                0.0246332288,\n",
      "                                -0.0363450348,\n",
      "                                -0.0250217915,\n",
      "                                0.00996702,\n",
      "                                0.0203640535,\n",
      "                                -0.0445729196,\n",
      "                                0.0397334322,\n",
      "                                0.0065695066,\n",
      "                                -0.0139511619,\n",
      "                                -0.00428913441,\n",
      "                                -0.0815378875,\n",
      "                                0.0155228358,\n",
      "                                -0.00964467786,\n",
      "                                0.00669096,\n",
      "                                -0.0142905954,\n",
      "                                -0.00264275516,\n",
      "                                0.00544952042,\n",
      "                                -0.00274299248,\n",
      "                                -0.0425583981,\n",
      "                                0.010223004,\n",
      "                                -0.00285273697,\n",
      "                                -0.00748494733,\n",
      "                                0.0329087526,\n",
      "                                -0.0128138121,\n",
      "                                0.0541246496,\n",
      "                                -0.0227952451,\n",
      "                                0.0114186648,\n",
      "                                -0.0224783514,\n",
      "                                0.0893615931,\n",
      "                                0.0548265651,\n",
      "                                0.0309129711,\n",
      "                                -0.0110166501,\n",
      "                                0.0176084433,\n",
      "                                -0.0316360071,\n",
      "                                0.0410137549,\n",
      "                                -0.0515702553,\n",
      "                                -0.0234982688,\n",
      "                                0.0380597115,\n",
      "                                -0.00438039051,\n",
      "                                0.0131522361,\n",
      "                                0.0718188062,\n",
      "                                -0.015800057,\n",
      "                                -0.00360638066,\n",
      "                                -0.0375338,\n",
      "                                0.00413680822,\n",
      "                                0.00673218817,\n",
      "                                -0.0411191136,\n",
      "                                0.0227454379,\n",
      "                                -7.71416111e-33,\n",
      "                                -0.020446647,\n",
      "                                -0.0539863892,\n",
      "                                0.018942181,\n",
      "                                -0.0122195948,\n",
      "                                -0.0469000824,\n",
      "                                -0.0148687577,\n",
      "                                -0.0679972619,\n",
      "                                -0.03817451,\n",
      "                                -0.0516083203,\n",
      "                                0.0213760287,\n",
      "                                -0.0408481099,\n",
      "                                -0.0113701075,\n",
      "                                0.0269469451,\n",
      "                                -0.0211739726,\n",
      "                                0.0495955572,\n",
      "                                0.00796549581,\n",
      "                                0.0252429526,\n",
      "                                0.010374194,\n",
      "                                -0.024866676,\n",
      "                                -0.0271328446,\n",
      "                                0.0451637432,\n",
      "                                0.00705359783,\n",
      "                                0.0246291775,\n",
      "                                0.0360865556,\n",
      "                                -0.017829109,\n",
      "                                0.0248641763,\n",
      "                                -0.047216896,\n",
      "                                -0.0516798608,\n",
      "                                0.0597712696,\n",
      "                                -0.00281847315,\n",
      "                                -0.0104511213,\n",
      "                                -0.0169944912,\n",
      "                                0.0146892397,\n",
      "                                0.00355675584,\n",
      "                                0.00338474521,\n",
      "                                0.0115757836,\n",
      "                                -0.00895719416,\n",
      "                                -0.00010550733,\n",
      "                                0.0167858321,\n",
      "                                0.00823814794,\n",
      "                                -0.0539262258,\n",
      "                                -0.0256883111,\n",
      "                                0.0117024137,\n",
      "                                -0.0769739822,\n",
      "                                -0.0402134545,\n",
      "                                0.0117370337,\n",
      "                                0.00458999677,\n",
      "                                -0.0246644206,\n",
      "                                0.0298209079,\n",
      "                                0.00118249096,\n",
      "                                -0.091353178,\n",
      "                                0.0205942709,\n",
      "                                -0.0134771839,\n",
      "                                -0.0503545441,\n",
      "                                0.0480360612,\n",
      "                                0.00822793227,\n",
      "                                0.0201072469,\n",
      "                                0.0160825774,\n",
      "                                -0.026546495,\n",
      "                                0.00350100128,\n",
      "                                0.0517865866,\n",
      "                                0.00398134859,\n",
      "                                0.00949732214,\n",
      "                                0.00459568622,\n",
      "                                0.0169985853,\n",
      "                                0.0545308441,\n",
      "                                0.0800844505,\n",
      "                                -0.0320891477,\n",
      "                                -0.000696804898,\n",
      "                                0.00736099249,\n",
      "                                -0.00194195076,\n",
      "                                0.0489790104,\n",
      "                                0.000445566373,\n",
      "                                -0.0630451068,\n",
      "                                0.00231130864,\n",
      "                                0.00470735785,\n",
      "                                0.0201471169,\n",
      "                                -0.00919706933,\n",
      "                                0.104818344,\n",
      "                                0.0201950092,\n",
      "                                -0.0512640141,\n",
      "                                0.0234295968,\n",
      "                                0.0354062133,\n",
      "                                0.0446036868,\n",
      "                                -0.0208412502,\n",
      "                                -0.0147935208,\n",
      "                                0.0693335161,\n",
      "                                0.00136516185,\n",
      "                                -0.0202292446,\n",
      "                                0.0145482896,\n",
      "                                0.00983623881,\n",
      "                                0.0250061434,\n",
      "                                0.0326036736,\n",
      "                                0.0141658066,\n",
      "                                -0.00248764665,\n",
      "                                -0.0644671917,\n",
      "                                -0.0136862053,\n",
      "                                -0.0233733263,\n",
      "                                -0.0244414471,\n",
      "                                -0.00397464586,\n",
      "                                0.0222449657,\n",
      "                                0.0140783945,\n",
      "                                0.0544577055,\n",
      "                                0.0629636,\n",
      "                                0.00181844272,\n",
      "                                0.0366340727,\n",
      "                                0.0399402119,\n",
      "                                0.0344280675,\n",
      "                                -0.0361199602,\n",
      "                                -0.0172398556,\n",
      "                                0.0340350606,\n",
      "                                0.0218471102,\n",
      "                                0.0539231077,\n",
      "                                0.0434571877,\n",
      "                                0.026082499,\n",
      "                                -0.0052575497,\n",
      "                                -0.00412626239,\n",
      "                                -0.000200989234,\n",
      "                                0.00757037848,\n",
      "                                0.0130384872,\n",
      "                                0.0245663468,\n",
      "                                0.0503233485,\n",
      "                                -0.0348489098,\n",
      "                                0.00990409404,\n",
      "                                -0.0101404088,\n",
      "                                -0.030270908,\n",
      "                                -0.021209823,\n",
      "                                0.0398820378,\n",
      "                                -0.0342047885,\n",
      "                                -0.043409,\n",
      "                                -0.0178385898,\n",
      "                                -0.0199472755,\n",
      "                                2.71105392e-07,\n",
      "                                0.0225238,\n",
      "                                -0.0192400124,\n",
      "                                0.000187280792,\n",
      "                                0.0739445612,\n",
      "                                0.00908748619,\n",
      "                                0.0172903221,\n",
      "                                -0.0235346891,\n",
      "                                0.0136645697,\n",
      "                                -0.0553456582,\n",
      "                                -0.047436092,\n",
      "                                0.0415207893,\n",
      "                                -0.0154746268,\n",
      "                                -0.0017165906,\n",
      "                                -0.0243592337,\n",
      "                                0.0645670593,\n",
      "                                -0.0179819595,\n",
      "                                0.00137516984,\n",
      "                                -0.00436382974,\n",
      "                                0.00286726211,\n",
      "                                -0.0772627,\n",
      "                                -0.0425803699,\n",
      "                                0.0345909931,\n",
      "                                0.048067797,\n",
      "                                -0.0327681042,\n",
      "                                0.0129492246,\n",
      "                                -0.0332390815,\n",
      "                                -0.0334238447,\n",
      "                                0.013420146,\n",
      "                                0.0826235637,\n",
      "                                -0.0406336077,\n",
      "                                0.00942086,\n",
      "                                -0.00786522,\n",
      "                                -0.0483184271,\n",
      "                                0.00814144,\n",
      "                                -0.024997035,\n",
      "                                -0.0121541796,\n",
      "                                -0.0136310812,\n",
      "                                0.0452176854,\n",
      "                                -0.0189622678,\n",
      "                                0.052707471,\n",
      "                                -0.0151827447,\n",
      "                                -0.0166587159,\n",
      "                                -0.0258489903,\n",
      "                                -0.0283678249,\n",
      "                                0.0280405562,\n",
      "                                0.0476219431,\n",
      "                                -0.0195682812,\n",
      "                                0.00638562767,\n",
      "                                -0.0264535882,\n",
      "                                -0.028295882,\n",
      "                                0.00392593304,\n",
      "                                -0.00593262771,\n",
      "                                0.0440241,\n",
      "                                0.0802086,\n",
      "                                0.00328271114,\n",
      "                                0.0057902718,\n",
      "                                0.025686048,\n",
      "                                -0.011676006,\n",
      "                                0.00146033079,\n",
      "                                -0.0464263037,\n",
      "                                -0.0256719515,\n",
      "                                -0.0370227769,\n",
      "                                -0.00986379106,\n",
      "                                0.00691464,\n",
      "                                -0.000536465493,\n",
      "                                -0.030798275,\n",
      "                                -0.0056720837,\n",
      "                                1.25085192e-34,\n",
      "                                0.00817217771,\n",
      "                                -0.00756513746,\n",
      "                                0.0327052139,\n",
      "                                0.089231506,\n",
      "                                0.0176785178,\n",
      "                                -0.0112381261,\n",
      "                                0.00846147258,\n",
      "                                -0.0195161253,\n",
      "                                0.020175809,\n",
      "                                -0.0349348262,\n",
      "                                -0.0150621329]}}}\n"
     ]
    }
   ],
   "source": [
    "#Get all vectors from the index with metadata\n",
    "vectors = index.fetch(ids=[\"What is YOLO in AI\",\"dog\"])\n",
    "print(vectors)"
   ]
  },
  {
   "cell_type": "code",
   "execution_count": 15,
   "metadata": {},
   "outputs": [
    {
     "name": "stdout",
     "output_type": "stream",
     "text": [
      "{'matches': [{'id': 'What is YOLO in AI',\n",
      "              'metadata': {'Answer': 'YOLO stands for \"You Only Look Once\" and '\n",
      "                                     'it is a real-time object detection '\n",
      "                                     'system in computer vision. YOLO is an '\n",
      "                                     'algorithm that can detect and recognize '\n",
      "                                     'multiple objects in an image or video '\n",
      "                                     'frame, and it is known for its speed and '\n",
      "                                     'accuracy. YOLO divides the input image '\n",
      "                                     'into a grid and then predicts bounding '\n",
      "                                     'boxes and class probabilities for each '\n",
      "                                     'grid cell. This allows YOLO to '\n",
      "                                     'efficiently detect and classify objects '\n",
      "                                     'in real-time applications such as '\n",
      "                                     'autonomous driving, surveillance, and '\n",
      "                                     'robotics.',\n",
      "                           'Question': 'What is YOLO in AI',\n",
      "                           'count': 1.0},\n",
      "              'score': 1.0001266,\n",
      "              'values': []}],\n",
      " 'namespace': '',\n",
      " 'usage': {'read_units': 6}}\n"
     ]
    }
   ],
   "source": [
    "vector=index.query(id=list(),top_k=1,include_metadata=True)\n",
    "print(vector)"
   ]
  },
  {
   "cell_type": "code",
   "execution_count": 36,
   "metadata": {},
   "outputs": [
    {
     "name": "stdout",
     "output_type": "stream",
     "text": [
      "Length of ids list is shorter than the number of total vectors...\n",
      "creating random vector...\n",
      "searching pinecone...\n",
      "<class 'pinecone.core.client.model.query_response.QueryResponse'>\n",
      "getting ids from a vector query...\n",
      "updating ids set...\n",
      "Collected 4 ids out of 4.\n",
      "['Tell me about AI', 'Describe YOLO', 'Who is Virat kohili', 'What is YOLO in AI']\n"
     ]
    }
   ],
   "source": [
    "import numpy as np\n",
    "def get_ids_from_query(index,input_vector):\n",
    "  print(\"searching pinecone...\")\n",
    "  results = index.query(vector=input_vector, top_k=10000,include_values=False)\n",
    "  ids = set()\n",
    "  print(type(results))\n",
    "  for result in results['matches']:\n",
    "    ids.add(result['id'])\n",
    "  return ids\n",
    "\n",
    "def get_all_ids_from_index(index, num_dimensions, namespace=\"\"):\n",
    "  num_vectors = index.describe_index_stats()[\"namespaces\"][namespace]['vector_count']\n",
    "  all_ids = set()\n",
    "  while len(all_ids) < num_vectors:\n",
    "    print(\"Length of ids list is shorter than the number of total vectors...\")\n",
    "    input_vector = np.random.rand(num_dimensions).tolist()\n",
    "    print(\"creating random vector...\")\n",
    "    ids = get_ids_from_query(index,input_vector)\n",
    "    print(\"getting ids from a vector query...\")\n",
    "    all_ids.update(ids)\n",
    "    print(\"updating ids set...\")\n",
    "    print(f\"Collected {len(all_ids)} ids out of {num_vectors}.\")\n",
    "\n",
    "  return all_ids\n",
    "\n",
    "all_ids = list(get_all_ids_from_index(index, num_dimensions=768, namespace=\"\"))\n",
    "print(all_ids)\n"
   ]
  },
  {
   "cell_type": "code",
   "execution_count": 39,
   "metadata": {},
   "outputs": [
    {
     "name": "stdout",
     "output_type": "stream",
     "text": [
      "Tell me about AI\n",
      "Describe YOLO\n",
      "Who is Virat kohili\n",
      "What is YOLO in AI\n",
      "{'Tell me about AI': 2.0, 'Describe YOLO': 0.0, 'Who is Virat kohili': 0.0, 'What is YOLO in AI': 1.0}\n"
     ]
    }
   ],
   "source": [
    "diction={}\n",
    "for i in all_ids:\n",
    "    print(i)\n",
    "    vectors=index.query(id=i,top_k=1,include_metadata=True)\n",
    "    for vector in vectors['matches']:\n",
    "        id,ans,counter=vector['id'],list(vector['metadata'].values())[0],list(vector['metadata'].values())[2]\n",
    "        diction[id]=counter\n",
    "print(diction)\n"
   ]
  },
  {
   "cell_type": "code",
   "execution_count": 48,
   "metadata": {},
   "outputs": [
    {
     "name": "stdout",
     "output_type": "stream",
     "text": [
      "[('Tell me about AI', 2.0), ('What is YOLO in AI', 1.0), ('Describe YOLO', 0.0), ('Who is Virat kohili', 0.0)]\n",
      "Tell me about AI  is asked  2.0  times\n",
      "What is YOLO in AI  is asked  1.0  times\n",
      "Describe YOLO  is asked  0.0  times\n",
      "Who is Virat kohili  is asked  0.0  times\n"
     ]
    }
   ],
   "source": [
    "#Make the dictionary descending order of the counter\n",
    "sorted_dict = sorted(diction.items(), key=lambda item: item[1], reverse=True)\n",
    "print(sorted_dict)\n",
    "new_dict = {key: value for key, value in sorted_dict}\n",
    "# Printing the sorted dictionary\n",
    "for id, count in new_dict.items():\n",
    "    print(id, ' is asked ', count,' times')"
   ]
  },
  {
   "cell_type": "code",
   "execution_count": 6,
   "metadata": {},
   "outputs": [
    {
     "name": "stdout",
     "output_type": "stream",
     "text": [
      "['Tell me about Prime Minster of India']\n"
     ]
    }
   ],
   "source": [
    "id = []\n",
    "for ids in index.list(prefix=\"\", namespace=\"ns1\"):\n",
    "    # print(ids)\n",
    "    # results1.append( index.fetch(ids=ids))\n",
    "    # results1 = index.fetch(ids=ids)\n",
    "    # print(results1)\n",
    "    # print(ids)\n",
    "    id = ids\n",
    " \n",
    "print(id)"
   ]
  },
  {
   "cell_type": "code",
   "execution_count": 1,
   "metadata": {},
   "outputs": [
    {
     "name": "stderr",
     "output_type": "stream",
     "text": [
      "c:\\Users\\saediga\\AppData\\Local\\Programs\\Python\\Python312\\Lib\\site-packages\\langchain_core\\_api\\deprecation.py:119: LangChainDeprecationWarning: The class `AzureChatOpenAI` was deprecated in LangChain 0.0.10 and will be removed in 0.3.0. An updated version of the class exists in the langchain-openai package and should be used instead. To use it run `pip install -U langchain-openai` and import as `from langchain_openai import AzureChatOpenAI`.\n",
      "  warn_deprecated(\n",
      "c:\\Users\\saediga\\AppData\\Local\\Programs\\Python\\Python312\\Lib\\site-packages\\langchain_core\\_api\\deprecation.py:119: LangChainDeprecationWarning: The method `BaseChatModel.__call__` was deprecated in langchain-core 0.1.7 and will be removed in 0.3.0. Use invoke instead.\n",
      "  warn_deprecated(\n"
     ]
    },
    {
     "data": {
      "application/vnd.plotly.v1+json": {
       "config": {
        "plotlyServerURL": "https://plot.ly"
       },
       "data": [
        {
         "alignmentgroup": "True",
         "hovertemplate": "x=%{x}<br>y=%{y}<extra></extra>",
         "legendgroup": "",
         "marker": {
          "color": "#636efa",
          "pattern": {
           "shape": ""
          }
         },
         "name": "",
         "offsetgroup": "",
         "orientation": "v",
         "showlegend": false,
         "textposition": "auto",
         "type": "bar",
         "x": [
          9,
          8,
          7,
          6,
          5,
          4,
          3,
          2,
          1,
          0
         ],
         "xaxis": "x",
         "y": [
          9,
          27,
          2,
          38,
          45,
          98,
          98,
          6,
          7,
          18
         ],
         "yaxis": "y"
        }
       ],
       "layout": {
        "barmode": "relative",
        "legend": {
         "tracegroupgap": 0
        },
        "margin": {
         "t": 60
        },
        "template": {
         "data": {
          "bar": [
           {
            "error_x": {
             "color": "#2a3f5f"
            },
            "error_y": {
             "color": "#2a3f5f"
            },
            "marker": {
             "line": {
              "color": "#E5ECF6",
              "width": 0.5
             },
             "pattern": {
              "fillmode": "overlay",
              "size": 10,
              "solidity": 0.2
             }
            },
            "type": "bar"
           }
          ],
          "barpolar": [
           {
            "marker": {
             "line": {
              "color": "#E5ECF6",
              "width": 0.5
             },
             "pattern": {
              "fillmode": "overlay",
              "size": 10,
              "solidity": 0.2
             }
            },
            "type": "barpolar"
           }
          ],
          "carpet": [
           {
            "aaxis": {
             "endlinecolor": "#2a3f5f",
             "gridcolor": "white",
             "linecolor": "white",
             "minorgridcolor": "white",
             "startlinecolor": "#2a3f5f"
            },
            "baxis": {
             "endlinecolor": "#2a3f5f",
             "gridcolor": "white",
             "linecolor": "white",
             "minorgridcolor": "white",
             "startlinecolor": "#2a3f5f"
            },
            "type": "carpet"
           }
          ],
          "choropleth": [
           {
            "colorbar": {
             "outlinewidth": 0,
             "ticks": ""
            },
            "type": "choropleth"
           }
          ],
          "contour": [
           {
            "colorbar": {
             "outlinewidth": 0,
             "ticks": ""
            },
            "colorscale": [
             [
              0,
              "#0d0887"
             ],
             [
              0.1111111111111111,
              "#46039f"
             ],
             [
              0.2222222222222222,
              "#7201a8"
             ],
             [
              0.3333333333333333,
              "#9c179e"
             ],
             [
              0.4444444444444444,
              "#bd3786"
             ],
             [
              0.5555555555555556,
              "#d8576b"
             ],
             [
              0.6666666666666666,
              "#ed7953"
             ],
             [
              0.7777777777777778,
              "#fb9f3a"
             ],
             [
              0.8888888888888888,
              "#fdca26"
             ],
             [
              1,
              "#f0f921"
             ]
            ],
            "type": "contour"
           }
          ],
          "contourcarpet": [
           {
            "colorbar": {
             "outlinewidth": 0,
             "ticks": ""
            },
            "type": "contourcarpet"
           }
          ],
          "heatmap": [
           {
            "colorbar": {
             "outlinewidth": 0,
             "ticks": ""
            },
            "colorscale": [
             [
              0,
              "#0d0887"
             ],
             [
              0.1111111111111111,
              "#46039f"
             ],
             [
              0.2222222222222222,
              "#7201a8"
             ],
             [
              0.3333333333333333,
              "#9c179e"
             ],
             [
              0.4444444444444444,
              "#bd3786"
             ],
             [
              0.5555555555555556,
              "#d8576b"
             ],
             [
              0.6666666666666666,
              "#ed7953"
             ],
             [
              0.7777777777777778,
              "#fb9f3a"
             ],
             [
              0.8888888888888888,
              "#fdca26"
             ],
             [
              1,
              "#f0f921"
             ]
            ],
            "type": "heatmap"
           }
          ],
          "heatmapgl": [
           {
            "colorbar": {
             "outlinewidth": 0,
             "ticks": ""
            },
            "colorscale": [
             [
              0,
              "#0d0887"
             ],
             [
              0.1111111111111111,
              "#46039f"
             ],
             [
              0.2222222222222222,
              "#7201a8"
             ],
             [
              0.3333333333333333,
              "#9c179e"
             ],
             [
              0.4444444444444444,
              "#bd3786"
             ],
             [
              0.5555555555555556,
              "#d8576b"
             ],
             [
              0.6666666666666666,
              "#ed7953"
             ],
             [
              0.7777777777777778,
              "#fb9f3a"
             ],
             [
              0.8888888888888888,
              "#fdca26"
             ],
             [
              1,
              "#f0f921"
             ]
            ],
            "type": "heatmapgl"
           }
          ],
          "histogram": [
           {
            "marker": {
             "pattern": {
              "fillmode": "overlay",
              "size": 10,
              "solidity": 0.2
             }
            },
            "type": "histogram"
           }
          ],
          "histogram2d": [
           {
            "colorbar": {
             "outlinewidth": 0,
             "ticks": ""
            },
            "colorscale": [
             [
              0,
              "#0d0887"
             ],
             [
              0.1111111111111111,
              "#46039f"
             ],
             [
              0.2222222222222222,
              "#7201a8"
             ],
             [
              0.3333333333333333,
              "#9c179e"
             ],
             [
              0.4444444444444444,
              "#bd3786"
             ],
             [
              0.5555555555555556,
              "#d8576b"
             ],
             [
              0.6666666666666666,
              "#ed7953"
             ],
             [
              0.7777777777777778,
              "#fb9f3a"
             ],
             [
              0.8888888888888888,
              "#fdca26"
             ],
             [
              1,
              "#f0f921"
             ]
            ],
            "type": "histogram2d"
           }
          ],
          "histogram2dcontour": [
           {
            "colorbar": {
             "outlinewidth": 0,
             "ticks": ""
            },
            "colorscale": [
             [
              0,
              "#0d0887"
             ],
             [
              0.1111111111111111,
              "#46039f"
             ],
             [
              0.2222222222222222,
              "#7201a8"
             ],
             [
              0.3333333333333333,
              "#9c179e"
             ],
             [
              0.4444444444444444,
              "#bd3786"
             ],
             [
              0.5555555555555556,
              "#d8576b"
             ],
             [
              0.6666666666666666,
              "#ed7953"
             ],
             [
              0.7777777777777778,
              "#fb9f3a"
             ],
             [
              0.8888888888888888,
              "#fdca26"
             ],
             [
              1,
              "#f0f921"
             ]
            ],
            "type": "histogram2dcontour"
           }
          ],
          "mesh3d": [
           {
            "colorbar": {
             "outlinewidth": 0,
             "ticks": ""
            },
            "type": "mesh3d"
           }
          ],
          "parcoords": [
           {
            "line": {
             "colorbar": {
              "outlinewidth": 0,
              "ticks": ""
             }
            },
            "type": "parcoords"
           }
          ],
          "pie": [
           {
            "automargin": true,
            "type": "pie"
           }
          ],
          "scatter": [
           {
            "fillpattern": {
             "fillmode": "overlay",
             "size": 10,
             "solidity": 0.2
            },
            "type": "scatter"
           }
          ],
          "scatter3d": [
           {
            "line": {
             "colorbar": {
              "outlinewidth": 0,
              "ticks": ""
             }
            },
            "marker": {
             "colorbar": {
              "outlinewidth": 0,
              "ticks": ""
             }
            },
            "type": "scatter3d"
           }
          ],
          "scattercarpet": [
           {
            "marker": {
             "colorbar": {
              "outlinewidth": 0,
              "ticks": ""
             }
            },
            "type": "scattercarpet"
           }
          ],
          "scattergeo": [
           {
            "marker": {
             "colorbar": {
              "outlinewidth": 0,
              "ticks": ""
             }
            },
            "type": "scattergeo"
           }
          ],
          "scattergl": [
           {
            "marker": {
             "colorbar": {
              "outlinewidth": 0,
              "ticks": ""
             }
            },
            "type": "scattergl"
           }
          ],
          "scattermapbox": [
           {
            "marker": {
             "colorbar": {
              "outlinewidth": 0,
              "ticks": ""
             }
            },
            "type": "scattermapbox"
           }
          ],
          "scatterpolar": [
           {
            "marker": {
             "colorbar": {
              "outlinewidth": 0,
              "ticks": ""
             }
            },
            "type": "scatterpolar"
           }
          ],
          "scatterpolargl": [
           {
            "marker": {
             "colorbar": {
              "outlinewidth": 0,
              "ticks": ""
             }
            },
            "type": "scatterpolargl"
           }
          ],
          "scatterternary": [
           {
            "marker": {
             "colorbar": {
              "outlinewidth": 0,
              "ticks": ""
             }
            },
            "type": "scatterternary"
           }
          ],
          "surface": [
           {
            "colorbar": {
             "outlinewidth": 0,
             "ticks": ""
            },
            "colorscale": [
             [
              0,
              "#0d0887"
             ],
             [
              0.1111111111111111,
              "#46039f"
             ],
             [
              0.2222222222222222,
              "#7201a8"
             ],
             [
              0.3333333333333333,
              "#9c179e"
             ],
             [
              0.4444444444444444,
              "#bd3786"
             ],
             [
              0.5555555555555556,
              "#d8576b"
             ],
             [
              0.6666666666666666,
              "#ed7953"
             ],
             [
              0.7777777777777778,
              "#fb9f3a"
             ],
             [
              0.8888888888888888,
              "#fdca26"
             ],
             [
              1,
              "#f0f921"
             ]
            ],
            "type": "surface"
           }
          ],
          "table": [
           {
            "cells": {
             "fill": {
              "color": "#EBF0F8"
             },
             "line": {
              "color": "white"
             }
            },
            "header": {
             "fill": {
              "color": "#C8D4E3"
             },
             "line": {
              "color": "white"
             }
            },
            "type": "table"
           }
          ]
         },
         "layout": {
          "annotationdefaults": {
           "arrowcolor": "#2a3f5f",
           "arrowhead": 0,
           "arrowwidth": 1
          },
          "autotypenumbers": "strict",
          "coloraxis": {
           "colorbar": {
            "outlinewidth": 0,
            "ticks": ""
           }
          },
          "colorscale": {
           "diverging": [
            [
             0,
             "#8e0152"
            ],
            [
             0.1,
             "#c51b7d"
            ],
            [
             0.2,
             "#de77ae"
            ],
            [
             0.3,
             "#f1b6da"
            ],
            [
             0.4,
             "#fde0ef"
            ],
            [
             0.5,
             "#f7f7f7"
            ],
            [
             0.6,
             "#e6f5d0"
            ],
            [
             0.7,
             "#b8e186"
            ],
            [
             0.8,
             "#7fbc41"
            ],
            [
             0.9,
             "#4d9221"
            ],
            [
             1,
             "#276419"
            ]
           ],
           "sequential": [
            [
             0,
             "#0d0887"
            ],
            [
             0.1111111111111111,
             "#46039f"
            ],
            [
             0.2222222222222222,
             "#7201a8"
            ],
            [
             0.3333333333333333,
             "#9c179e"
            ],
            [
             0.4444444444444444,
             "#bd3786"
            ],
            [
             0.5555555555555556,
             "#d8576b"
            ],
            [
             0.6666666666666666,
             "#ed7953"
            ],
            [
             0.7777777777777778,
             "#fb9f3a"
            ],
            [
             0.8888888888888888,
             "#fdca26"
            ],
            [
             1,
             "#f0f921"
            ]
           ],
           "sequentialminus": [
            [
             0,
             "#0d0887"
            ],
            [
             0.1111111111111111,
             "#46039f"
            ],
            [
             0.2222222222222222,
             "#7201a8"
            ],
            [
             0.3333333333333333,
             "#9c179e"
            ],
            [
             0.4444444444444444,
             "#bd3786"
            ],
            [
             0.5555555555555556,
             "#d8576b"
            ],
            [
             0.6666666666666666,
             "#ed7953"
            ],
            [
             0.7777777777777778,
             "#fb9f3a"
            ],
            [
             0.8888888888888888,
             "#fdca26"
            ],
            [
             1,
             "#f0f921"
            ]
           ]
          },
          "colorway": [
           "#636efa",
           "#EF553B",
           "#00cc96",
           "#ab63fa",
           "#FFA15A",
           "#19d3f3",
           "#FF6692",
           "#B6E880",
           "#FF97FF",
           "#FECB52"
          ],
          "font": {
           "color": "#2a3f5f"
          },
          "geo": {
           "bgcolor": "white",
           "lakecolor": "white",
           "landcolor": "#E5ECF6",
           "showlakes": true,
           "showland": true,
           "subunitcolor": "white"
          },
          "hoverlabel": {
           "align": "left"
          },
          "hovermode": "closest",
          "mapbox": {
           "style": "light"
          },
          "paper_bgcolor": "white",
          "plot_bgcolor": "#E5ECF6",
          "polar": {
           "angularaxis": {
            "gridcolor": "white",
            "linecolor": "white",
            "ticks": ""
           },
           "bgcolor": "#E5ECF6",
           "radialaxis": {
            "gridcolor": "white",
            "linecolor": "white",
            "ticks": ""
           }
          },
          "scene": {
           "xaxis": {
            "backgroundcolor": "#E5ECF6",
            "gridcolor": "white",
            "gridwidth": 2,
            "linecolor": "white",
            "showbackground": true,
            "ticks": "",
            "zerolinecolor": "white"
           },
           "yaxis": {
            "backgroundcolor": "#E5ECF6",
            "gridcolor": "white",
            "gridwidth": 2,
            "linecolor": "white",
            "showbackground": true,
            "ticks": "",
            "zerolinecolor": "white"
           },
           "zaxis": {
            "backgroundcolor": "#E5ECF6",
            "gridcolor": "white",
            "gridwidth": 2,
            "linecolor": "white",
            "showbackground": true,
            "ticks": "",
            "zerolinecolor": "white"
           }
          },
          "shapedefaults": {
           "line": {
            "color": "#2a3f5f"
           }
          },
          "ternary": {
           "aaxis": {
            "gridcolor": "white",
            "linecolor": "white",
            "ticks": ""
           },
           "baxis": {
            "gridcolor": "white",
            "linecolor": "white",
            "ticks": ""
           },
           "bgcolor": "#E5ECF6",
           "caxis": {
            "gridcolor": "white",
            "linecolor": "white",
            "ticks": ""
           }
          },
          "title": {
           "x": 0.05
          },
          "xaxis": {
           "automargin": true,
           "gridcolor": "white",
           "linecolor": "white",
           "ticks": "",
           "title": {
            "standoff": 15
           },
           "zerolinecolor": "white",
           "zerolinewidth": 2
          },
          "yaxis": {
           "automargin": true,
           "gridcolor": "white",
           "linecolor": "white",
           "ticks": "",
           "title": {
            "standoff": 15
           },
           "zerolinecolor": "white",
           "zerolinewidth": 2
          }
         }
        },
        "xaxis": {
         "anchor": "y",
         "domain": [
          0,
          1
         ],
         "title": {
          "text": "x"
         }
        },
        "yaxis": {
         "anchor": "x",
         "domain": [
          0,
          1
         ],
         "title": {
          "text": "y"
         }
        }
       }
      }
     },
     "metadata": {},
     "output_type": "display_data"
    },
    {
     "name": "stdout",
     "output_type": "stream",
     "text": [
      "Based on the user's request, we should plot a bar chart with the x-axis representing the 'x' column and the y-axis representing the 'y' column from the dataset. No filters need to be applied to the data. We don't need to transform the axes in any way. The chart type should be a bar chart.\n"
     ]
    }
   ],
   "source": [
    "import pandas as pd\n",
    "import numpy as np\n",
    "from langchain.chat_models import AzureChatOpenAI\n",
    "from chat2plot import chat2plot\n",
    "numerical_data = {\n",
    "    'x': np.arange(0, 10),\n",
    "    'y': np.random.randint(0, 100, size=10)\n",
    "}\n",
    "\n",
    "plot = chat2plot(pd.DataFrame(numerical_data), chat=AzureChatOpenAI(api_key=\"836fea48dd7a402dbd8cf73f4dddb2e5\",api_version=\"2023-05-15\",model=\"BayerBIGPT35Turbo\",azure_endpoint=\"https://bayerbichatgpt4.openai.azure.com/\"))\n",
    "ret = plot.query(\"plot a bar chart of x vs y\")\n",
    "ret.figure.show()\n",
    "print(ret.explanation)\n"
   ]
  },
  {
   "cell_type": "code",
   "execution_count": 3,
   "metadata": {},
   "outputs": [
    {
     "name": "stdout",
     "output_type": "stream",
     "text": [
      "openai==1.25.0\n",
      "Note: you may need to restart the kernel to use updated packages.\n"
     ]
    }
   ],
   "source": [
    "pip freeze | findstr openai"
   ]
  },
  {
   "cell_type": "code",
   "execution_count": 1,
   "metadata": {},
   "outputs": [
    {
     "name": "stdout",
     "output_type": "stream",
     "text": [
      "Largest element is: 99\n"
     ]
    }
   ],
   "source": [
    "# List of numbers\n",
    "list1 = [10, 20, 4, 45, 99]\n",
    " \n",
    "# Printing the maximum element\n",
    "print(\"Largest element is:\", max(list1))"
   ]
  },
  {
   "cell_type": "code",
   "execution_count": 7,
   "metadata": {},
   "outputs": [
    {
     "name": "stdout",
     "output_type": "stream",
     "text": [
      "1073741824\n"
     ]
    }
   ],
   "source": [
    "n=30\n",
    "amount=1\n",
    "while n>0:\n",
    "    amount=amount*2\n",
    "    n=n-1\n",
    "print(amount)"
   ]
  },
  {
   "cell_type": "code",
   "execution_count": 8,
   "metadata": {},
   "outputs": [
    {
     "name": "stdout",
     "output_type": "stream",
     "text": [
      "1073741824\n"
     ]
    }
   ],
   "source": [
    "n=30\n",
    "amount=1\n",
    "\n",
    "for i in range(1,n+1):\n",
    "    amount=amount*2\n",
    "\n",
    "print(amount)"
   ]
  },
  {
   "cell_type": "code",
   "execution_count": 4,
   "metadata": {},
   "outputs": [
    {
     "name": "stdout",
     "output_type": "stream",
     "text": [
      "what is the status 3052024 of my delivery 12345678900?\n"
     ]
    }
   ],
   "source": [
    "import re\n",
    "\n",
    "def format_question(question):\n",
    "    # Extract all numbers from the question\n",
    "    matches = re.finditer(r'\\d+', question)\n",
    "    for match in matches:\n",
    "        number = match.group(0)\n",
    "        # Check if the number is less than 10 digits and greater than or equal to 8 digits\n",
    "        if len(number) >= 8 and len(number) < 10:\n",
    "            # Pad the number with leading zeroes to make it 10 digits\n",
    "            formatted_number = number.zfill(10)\n",
    "            # Replace the original number with the formatted number in the question\n",
    "            question = question.replace(number, formatted_number, 1)\n",
    "    return question\n",
    "\n",
    "# Example usage\n",
    "question = \"what is the status 3052024 of my delivery 12345678900?\"\n",
    "modified_question = format_question(question)\n",
    "print(modified_question)"
   ]
  },
  {
   "cell_type": "code",
   "execution_count": null,
   "metadata": {},
   "outputs": [],
   "source": []
  }
 ],
 "metadata": {
  "kernelspec": {
   "display_name": "Python 3",
   "language": "python",
   "name": "python3"
  },
  "language_info": {
   "codemirror_mode": {
    "name": "ipython",
    "version": 3
   },
   "file_extension": ".py",
   "mimetype": "text/x-python",
   "name": "python",
   "nbconvert_exporter": "python",
   "pygments_lexer": "ipython3",
   "version": "3.12.3"
  }
 },
 "nbformat": 4,
 "nbformat_minor": 2
}
